{
 "cells": [
  {
   "cell_type": "markdown",
   "metadata": {
    "collapsed": true
   },
   "source": [
    "# Building machine learning model to predict Gender"
   ]
  },
  {
   "cell_type": "markdown",
   "metadata": {
    "collapsed": true
   },
   "source": [
    "### import graphlab (https://dato.com/products/create/)"
   ]
  },
  {
   "cell_type": "code",
   "execution_count": 1,
   "metadata": {
    "collapsed": false
   },
   "outputs": [
    {
     "name": "stderr",
     "output_type": "stream",
     "text": [
      "A newer version of GraphLab Create (v1.8.2) is available! Your current version is v1.7.1.\n",
      "\n",
      "You can use pip to upgrade the graphlab-create package. For more information see https://dato.com/products/create/upgrade.\n"
     ]
    }
   ],
   "source": [
    "import graphlab"
   ]
  },
  {
   "cell_type": "code",
   "execution_count": 2,
   "metadata": {
    "collapsed": false
   },
   "outputs": [
    {
     "name": "stderr",
     "output_type": "stream",
     "text": [
      "[INFO] \u001b[1;32m1456261731 : INFO:     (initialize_globals_from_environment:282): Setting configuration variable GRAPHLAB_FILEIO_ALTERNATIVE_SSL_CERT_FILE to C:\\Users\\user\\Anaconda3\\envs\\dato-env\\lib\\site-packages\\certifi\\cacert.pem\n",
      "\u001b[0m\u001b[1;32m1456261731 : INFO:     (initialize_globals_from_environment:282): Setting configuration variable GRAPHLAB_FILEIO_ALTERNATIVE_SSL_CERT_DIR to \n",
      "\u001b[0mThis non-commercial license of GraphLab Create is assigned to raid.arfua@gmail.com and will expire on November 18, 2016. For commercial licensing options, visit https://dato.com/buy/.\n",
      "\n",
      "[INFO] Start server at: ipc:///tmp/graphlab_server-11872 - Server binary: C:\\Users\\user\\Anaconda3\\envs\\dato-env\\lib\\site-packages\\graphlab\\unity_server.exe - Server log: C:\\Users\\user\\AppData\\Local\\Temp\\graphlab_server_1456261731.log.0\n",
      "[INFO] GraphLab Server Version: 1.7.1\n"
     ]
    },
    {
     "name": "stdout",
     "output_type": "stream",
     "text": [
      "PROGRESS: Finished parsing file C:\\Users\\user\\Anaconda3\\Train.csv\n",
      "PROGRESS: Parsing completed. Parsed 10862 lines in 0.093758 secs.\n"
     ]
    }
   ],
   "source": [
    "# Firstly we removed some unrelevant for predictions features from training and test data:\n",
    "# we removed V7 as it is closely connected with V4, and we removed V8 as it is closely connected with V5,\n",
    "# we also removed V3 and V6 as dates are not very representative for prediction of Gender, \n",
    "# but we will include the mongth from V2 feature to our predictive variables.\n",
    "\n",
    "# load training data:\n",
    "column_type_hints=[str,str,long,long,float,float,float,float,float,float,float,\n",
    "                   float,float,float,float,float,float,float,float,float,float,float,float,float,float,float,float,float,str]\n",
    "data_train = graphlab.SFrame.read_csv('Train.csv',delimiter = ';',column_type_hints = column_type_hints)"
   ]
  },
  {
   "cell_type": "code",
   "execution_count": 3,
   "metadata": {
    "collapsed": false
   },
   "outputs": [],
   "source": [
    "# show first 5 rows to see the data\n",
    "data_train[:5]\n",
    "# change type of V2 and V6 from string to datetime and covert it to mongths:\n",
    "data_train['V2'] = data_train['V2'].str_to_datetime(\"%d-%m-%Y\")\n",
    "data_train['V2'] = data_train['V2'].split_datetime()['X.month']"
   ]
  },
  {
   "cell_type": "code",
   "execution_count": 4,
   "metadata": {
    "collapsed": false
   },
   "outputs": [
    {
     "name": "stdout",
     "output_type": "stream",
     "text": [
      "Canvas is accessible via web browser at the URL: http://localhost:53225/index.html\n",
      "Opening Canvas in default web browser.\n",
      "+-------------------------------+----+------+----+-----------+----------+\n",
      "|            subs_id            | V2 |  V4  | V5 |     V9    |   V10    |\n",
      "+-------------------------------+----+------+----+-----------+----------+\n",
      "| 183721114dab116fbaf2a3204f... | 7  | 3508 | 15 | 0.8529772 |   0.0    |\n",
      "| fd77444abf14537778af770392... | 3  | 3508 | 15 |  70.04804 | 67.23939 |\n",
      "| de6302921ac156d0ce43c30236... | 9  | 3508 | 15 |  57.40215 | 67.29078 |\n",
      "| d4f4cd3e77a3c1f2405726bb71... | 9  | 3508 | 15 |  53.61982 | 46.93018 |\n",
      "| bd5623f4c1e0e134b33673aff0... | 9  | 515  | 15 |  177.1632 | 200.1843 |\n",
      "+-------------------------------+----+------+----+-----------+----------+\n",
      "+-----------+-----------+-----------+-----------+-----------+----------+\n",
      "|    V11    |    V13    |    V14    |    V15    |    V16    |   V17    |\n",
      "+-----------+-----------+-----------+-----------+-----------+----------+\n",
      "| 0.4914743 | 0.3333333 |    0.0    | 0.6823011 | 0.2254318 | 0.175487 |\n",
      "|  29.44124 | 0.4458366 | 0.2763155 |   683.03  |  681.0867 |   1.02   |\n",
      "|  30.87054 | 0.7129029 | 0.9716549 |  527.8602 |  523.501  | 3.697046 |\n",
      "|  21.29757 |  2.881817 |  6.606303 |  147.6837 |  147.6865 |   0.74   |\n",
      "|  30.87845 |  30.59613 |  171.7593 |  458.7931 |  448.3199 | 11.20088 |\n",
      "+-----------+-----------+-----------+-----------+-----------+----------+\n",
      "+-----------+-----------+-----------+----------+----------+------------+\n",
      "|    V18    |    V19    |    V20    |   V21    |   V22    |    V23     |\n",
      "+-----------+-----------+-----------+----------+----------+------------+\n",
      "|    0.0    |    0.0    |    0.0    | 166.7662 | 162.3979 | 0.02333333 |\n",
      "|    0.0    |    0.0    | 0.8356294 | 636.0868 | 625.5737 |  7.365156  |\n",
      "|  227.6795 | 0.9770303 | 0.2666667 | 335.0511 | 297.711  |  27.44221  |\n",
      "| 0.1156443 |    0.0    | 0.3923557 | 396.4065 | 386.0689 | 0.1733333  |\n",
      "|  512.3368 |    0.0    | 0.1260378 | 376.4749 | 362.4515 |  5.535098  |\n",
      "+-----------+-----------+-----------+----------+----------+------------+\n",
      "+-----------+----------+-----+\n",
      "|    V24    |   V25    | ... |\n",
      "+-----------+----------+-----+\n",
      "| 0.5805832 | 0.473169 | ... |\n",
      "|  1.752365 | 8.347803 | ... |\n",
      "|  1.962289 | 19.2784  | ... |\n",
      "| 0.8644793 | 1.175273 | ... |\n",
      "|  2.02923  | 4.29337  | ... |\n",
      "+-----------+----------+-----+\n",
      "[5 rows x 28 columns]\n",
      "\n"
     ]
    }
   ],
   "source": [
    "# Look at very useful summary statistics with build-in function show() (means, summs, etc.)\n",
    "data_train.show()\n",
    "# remove columns V12 as it contains too many undentified values:\n",
    "data_train.remove_column('V12')\n",
    "print data_train[:5]"
   ]
  },
  {
   "cell_type": "code",
   "execution_count": 5,
   "metadata": {
    "collapsed": false
   },
   "outputs": [
    {
     "name": "stdout",
     "output_type": "stream",
     "text": [
      "PROGRESS: Finished parsing file C:\\Users\\user\\Anaconda3\\Test.csv\n",
      "PROGRESS: Parsing completed. Parsed 4654 lines in 0.085513 secs.\n"
     ]
    }
   ],
   "source": [
    "# load test data and do similar operations as with training set:\n",
    "column_type_hints = column_type_hints[:-1]\n",
    "data_test = graphlab.SFrame.read_csv('Test.csv',delimiter = ';',column_type_hints = column_type_hints)\n",
    "data_test.remove_column('V12')\n",
    "data_test['V2'] = data_test['V2'].str_to_datetime(\"%d-%m-%Y\")\n",
    "data_test['V2'] = data_test['V2'].split_datetime()['X.month']"
   ]
  },
  {
   "cell_type": "code",
   "execution_count": 6,
   "metadata": {
    "collapsed": false
   },
   "outputs": [
    {
     "name": "stdout",
     "output_type": "stream",
     "text": [
      "Canvas is accessible via web browser at the URL: http://localhost:53225/index.html\n",
      "Opening Canvas in default web browser.\n"
     ]
    }
   ],
   "source": [
    "data_test.show()"
   ]
  },
  {
   "cell_type": "code",
   "execution_count": 7,
   "metadata": {
    "collapsed": true
   },
   "outputs": [],
   "source": [
    "# create output variable to be a target for the logistic regression:\n",
    "data_train['output'] = data_train['Gender'] == 'Female'\n",
    "# it is equal to 1 when Gender is Female, so we will predict the probability that Gender is Female"
   ]
  },
  {
   "cell_type": "code",
   "execution_count": 8,
   "metadata": {
    "collapsed": false,
    "scrolled": true
   },
   "outputs": [
    {
     "name": "stdout",
     "output_type": "stream",
     "text": [
      "Canvas is accessible via web browser at the URL: http://localhost:53225/index.html\n",
      "Opening Canvas in default web browser.\n"
     ]
    }
   ],
   "source": [
    "# clean training data before doing logistic regression:\n",
    "data_train = data_train.dropna()\n",
    "data_train.show()\n"
   ]
  },
  {
   "cell_type": "code",
   "execution_count": 9,
   "metadata": {
    "collapsed": false
   },
   "outputs": [
    {
     "name": "stdout",
     "output_type": "stream",
     "text": [
      "PROGRESS: Creating a validation set from 5 percent of training data. This may take a while.\n",
      "          You can set ``validation_set=None`` to disable validation tracking.\n",
      "\n",
      "PROGRESS: Logistic regression:\n",
      "PROGRESS: --------------------------------------------------------\n",
      "PROGRESS: Number of examples          : 8748\n",
      "PROGRESS: Number of classes           : 2\n",
      "PROGRESS: Number of feature columns   : 26\n",
      "PROGRESS: Number of unpacked features : 26\n",
      "PROGRESS: Number of coefficients    : 27\n",
      "PROGRESS: Starting Newton Method\n",
      "PROGRESS: --------------------------------------------------------\n",
      "PROGRESS: +-----------+----------+--------------+-------------------+---------------------+\n",
      "PROGRESS: | Iteration | Passes   | Elapsed Time | Training-accuracy | Validation-accuracy |\n",
      "PROGRESS: +-----------+----------+--------------+-------------------+---------------------+\n",
      "PROGRESS: | 1         | 2        | 1.048129     | 0.610997          | 0.639344            |\n",
      "PROGRESS: | 2         | 3        | 1.079382     | 0.614312          | 0.639344            |\n",
      "PROGRESS: | 3         | 4        | 1.110631     | 0.614769          | 0.643443            |\n",
      "PROGRESS: | 4         | 5        | 1.126256     | 0.615112          | 0.645492            |\n",
      "PROGRESS: +-----------+----------+--------------+-------------------+---------------------+\n",
      "PROGRESS: SUCCESS: Optimal solution found.\n",
      "PROGRESS:\n"
     ]
    }
   ],
   "source": [
    "# Let's change data in column Gender, so for Female we put 1, and for Male we put 0:\n",
    "# Let's create fetures excluding the subs_id, Gender, and output as a target\n",
    "init_features = data_train.column_names()[1:-2]\n",
    "init_log_model = graphlab.logistic_classifier.create(data_train, l2_penalty=10, l1_penalty=0,\n",
    "                                                         features=init_features,\n",
    "                                                         target='output')"
   ]
  },
  {
   "cell_type": "code",
   "execution_count": 10,
   "metadata": {
    "collapsed": false
   },
   "outputs": [
    {
     "name": "stdout",
     "output_type": "stream",
     "text": [
      "[0.4117490167967732, 0.5726147849499341, 0.5260861671843733, 0.44585681043925574, 0.5903699402898221]\n"
     ]
    }
   ],
   "source": [
    "# Let's look at our predictions:\n",
    "predictions = init_log_model.predict(data_test, output_type='probability')\n",
    "print predictions[:5]"
   ]
  },
  {
   "cell_type": "code",
   "execution_count": 11,
   "metadata": {
    "collapsed": false
   },
   "outputs": [
    {
     "name": "stdout",
     "output_type": "stream",
     "text": [
      "+-------------+-------+-------+--------------------+\n",
      "|     name    | index | class |       value        |\n",
      "+-------------+-------+-------+--------------------+\n",
      "| (intercept) |  None |   1   |  -0.122602761625   |\n",
      "|      V2     |  None |   1   |  0.00256182140304  |\n",
      "|      V4     |  None |   1   | 6.17989756251e-09  |\n",
      "|      V5     |  None |   1   | -0.00193034090786  |\n",
      "|      V9     |  None |   1   | -0.00267289819282  |\n",
      "|     V10     |  None |   1   |  2.9254631741e-07  |\n",
      "|     V11     |  None |   1   | -0.00742837835357  |\n",
      "|     V13     |  None |   1   |  0.0122019090191   |\n",
      "|     V14     |  None |   1   | -0.00166760518016  |\n",
      "|     V15     |  None |   1   | 5.95718657293e-05  |\n",
      "|     V16     |  None |   1   | 3.26768350354e-05  |\n",
      "|     V17     |  None |   1   | 8.89894161655e-05  |\n",
      "|     V18     |  None |   1   | -0.000151318550948 |\n",
      "|     V19     |  None |   1   |  0.00268242349628  |\n",
      "|     V20     |  None |   1   | -0.00925600468425  |\n",
      "|     V21     |  None |   1   | 0.000629207429992  |\n",
      "|     V22     |  None |   1   | 0.000583250560629  |\n",
      "|     V23     |  None |   1   |  0.0128886466165   |\n",
      "|     V24     |  None |   1   |  0.0166423868828   |\n",
      "|     V25     |  None |   1   |  -0.0334068073913  |\n",
      "|     V26     |  None |   1   |  0.00614374821053  |\n",
      "|     V27     |  None |   1   |  0.00853768598122  |\n",
      "|     V28     |  None |   1   |  0.00163205263792  |\n",
      "|     V29     |  None |   1   | 0.000868376986814  |\n",
      "|     V30     |  None |   1   |  0.00251317066581  |\n",
      "|     V31     |  None |   1   |  0.0461900730522   |\n",
      "|     V32     |  None |   1   |  0.00853310543898  |\n",
      "+-------------+-------+-------+--------------------+\n",
      "[27 rows x 4 columns]\n",
      "\n",
      "{'f1_score': 0.610989010989011, 'auc': 0.6638550797895817, 'recall': 0.5718987862579716, 'precision': 0.6558150507195093, 'log_loss': 0.6599398474187931, 'roc_curve': Columns:\n",
      "\tthreshold\tfloat\n",
      "\tfpr\tfloat\n",
      "\ttpr\tfloat\n",
      "\tp\tint\n",
      "\tn\tint\n",
      "\n",
      "Rows: 100001\n",
      "\n",
      "Data:\n",
      "+-----------+-----+-----+------+------+\n",
      "| threshold | fpr | tpr |  p   |  n   |\n",
      "+-----------+-----+-----+------+------+\n",
      "|    0.0    | 1.0 | 1.0 | 4861 | 4375 |\n",
      "|   1e-05   | 1.0 | 1.0 | 4861 | 4375 |\n",
      "|   2e-05   | 1.0 | 1.0 | 4861 | 4375 |\n",
      "|   3e-05   | 1.0 | 1.0 | 4861 | 4375 |\n",
      "|   4e-05   | 1.0 | 1.0 | 4861 | 4375 |\n",
      "|   5e-05   | 1.0 | 1.0 | 4861 | 4375 |\n",
      "|   6e-05   | 1.0 | 1.0 | 4861 | 4375 |\n",
      "|   7e-05   | 1.0 | 1.0 | 4861 | 4375 |\n",
      "|   8e-05   | 1.0 | 1.0 | 4861 | 4375 |\n",
      "|   9e-05   | 1.0 | 1.0 | 4861 | 4375 |\n",
      "+-----------+-----+-----+------+------+\n",
      "[100001 rows x 5 columns]\n",
      "Note: Only the head of the SFrame is printed.\n",
      "You can use print_rows(num_rows=m, num_columns=n) to print more rows and columns., 'confusion_matrix': Columns:\n",
      "\ttarget_label\tint\n",
      "\tpredicted_label\tint\n",
      "\tcount\tint\n",
      "\n",
      "Rows: 4\n",
      "\n",
      "Data:\n",
      "+--------------+-----------------+-------+\n",
      "| target_label | predicted_label | count |\n",
      "+--------------+-----------------+-------+\n",
      "|      1       |        0        |  2081 |\n",
      "|      0       |        0        |  2916 |\n",
      "|      0       |        1        |  1459 |\n",
      "|      1       |        1        |  2780 |\n",
      "+--------------+-----------------+-------+\n",
      "[4 rows x 3 columns]\n",
      ", 'accuracy': 0.6167171935902989}\n"
     ]
    }
   ],
   "source": [
    "# Let's look at the summary statistics:\n",
    "init_log_model.get('coefficients').print_rows(num_rows=27)\n",
    "# we see that coefficients are small\n",
    "# we see that even with the initial single logistic regression model we get 61% of accuracy, and 0.65 as AUC value:\n",
    "print init_log_model.evaluate(data_train)"
   ]
  },
  {
   "cell_type": "markdown",
   "metadata": {},
   "source": [
    "### now we will try to improve the model choosing the best possible lambda value\n",
    "### it will be done using K-Fold Cross Validation\n",
    "### (no need to create test set as 10% of training data, because all the validations will be performed on validation sets, and we want to keep a number of observations as high as possible)"
   ]
  },
  {
   "cell_type": "code",
   "execution_count": 12,
   "metadata": {
    "collapsed": false
   },
   "outputs": [],
   "source": [
    "train_valid_shuffled = graphlab.toolkits.cross_validation.shuffle(data_train, random_seed=1)"
   ]
  },
  {
   "cell_type": "code",
   "execution_count": 13,
   "metadata": {
    "collapsed": false
   },
   "outputs": [],
   "source": [
    "## this function will return us an average AUC value over all cross-validated models:\n",
    "\n",
    "import numpy as np\n",
    "def k_fold_cross_validation(k, l2_penalty, data, output_name, features_list):\n",
    "    n = len(data)\n",
    "    AUC_list = list()\n",
    "    for i in xrange(k):\n",
    "        start = (n*i)/k\n",
    "        end = (n*(i+1))/k-1\n",
    "        valid_set = data[start:end+1]\n",
    "        train_set = data[:start].append(data[end+1:])\n",
    "        model = graphlab.logistic_classifier.create(train_set, target = output_name, features = features_list, \n",
    "                                                    validation_set = None, l2_penalty=l2_penalty, verbose=False)\n",
    "        AUC_list.append(model.evaluate(valid_set)['auc'])\n",
    "        \n",
    "    return (np.mean(AUC_list))"
   ]
  },
  {
   "cell_type": "code",
   "execution_count": 14,
   "metadata": {
    "collapsed": false
   },
   "outputs": [],
   "source": [
    "## now we will gather all the AUCs that we get through cross-validation\n",
    "\n",
    "mean_AUC = list()\n",
    "for l2_penalty in np.logspace(-1, 2, num=25):\n",
    "    my_features = init_features\n",
    "    AUC = k_fold_cross_validation(10, l2_penalty, train_valid_shuffled, 'output', my_features)\n",
    "    mean_AUC.append(AUC)\n"
   ]
  },
  {
   "cell_type": "code",
   "execution_count": 15,
   "metadata": {
    "collapsed": false
   },
   "outputs": [
    {
     "name": "stdout",
     "output_type": "stream",
     "text": [
      "Average AUCs:  [0.65770024424536766, 0.6577030415874543, 0.65769620523257477, 0.65768936990324056, 0.65766984610793433, 0.65766136086530813, 0.65763921185508489, 0.65764086118373, 0.65765405729803805, 0.65765876083304975, 0.6576618631419322, 0.65770869839088486, 0.65774757472517387, 0.65780003334519954, 0.65784692075882678, 0.65791643742959727, 0.65798799630821014, 0.65806678257893436, 0.65812800548762296, 0.6580262896654282, 0.65783771608715047, 0.65754043588555022, 0.65713836047000529, 0.65650132503819969, 0.65545290514801713]\n",
      "Maximum AUC:  0.658128005488\n",
      "Right l2_penalty:  17.7827941004\n"
     ]
    }
   ],
   "source": [
    "print 'Average AUCs: ',mean_AUC    \n",
    "print 'Maximum AUC: ', np.max(mean_AUC)\n",
    "\n",
    "right_l2_penalty = (np.logspace(-1, 2, num=25))[mean_AUC.index(np.max(mean_AUC))]\n",
    "print 'Right l2_penalty: ', right_l2_penalty"
   ]
  },
  {
   "cell_type": "code",
   "execution_count": 16,
   "metadata": {
    "collapsed": false
   },
   "outputs": [
    {
     "name": "stdout",
     "output_type": "stream",
     "text": [
      "[   0.1           0.13335214    0.17782794    0.23713737    0.31622777\n",
      "    0.4216965     0.56234133    0.74989421    1.            1.33352143\n",
      "    1.77827941    2.37137371    3.16227766    4.21696503    5.62341325\n",
      "    7.49894209   10.           13.33521432   17.7827941    23.71373706\n",
      "   31.6227766    42.16965034   56.23413252   74.98942093  100.        ]\n"
     ]
    }
   ],
   "source": [
    "print (np.logspace(-1, 2, num=25))"
   ]
  },
  {
   "cell_type": "code",
   "execution_count": 17,
   "metadata": {
    "collapsed": false
   },
   "outputs": [
    {
     "data": {
      "text/plain": [
       "[<matplotlib.lines.Line2D at 0x22437ef0>]"
      ]
     },
     "execution_count": 17,
     "metadata": {},
     "output_type": "execute_result"
    },
    {
     "data": {
      "image/png": "[encoded data removed]",
      "text/plain": [
       "<matplotlib.figure.Figure at 0x2235e198>"
      ]
     },
     "metadata": {},
     "output_type": "display_data"
    }
   ],
   "source": [
    "## We can build the graph l2_penalty vs averaged AUC\n",
    "\n",
    "import matplotlib.pyplot as plt\n",
    "%matplotlib inline\n",
    "\n",
    "l2_penaltyv = np.logspace(-1, 2, num=25)\n",
    "plt.xscale('log')\n",
    "plt.plot(l2_penaltyv, mean_AUC,'-')"
   ]
  },
  {
   "cell_type": "code",
   "execution_count": 18,
   "metadata": {
    "collapsed": false
   },
   "outputs": [],
   "source": [
    "## Finally, we see that, while the difference is not really huge, we can set l2_penalty equal to 18 as the best choice:\n",
    "\n",
    "final_log_model = graphlab.logistic_classifier.create(train_valid_shuffled, l2_penalty=right_l2_penalty, l1_penalty=0,\n",
    "                                                         features=init_features,\n",
    "                                                         target='output', verbose=False)"
   ]
  },
  {
   "cell_type": "code",
   "execution_count": 19,
   "metadata": {
    "collapsed": false
   },
   "outputs": [
    {
     "name": "stdout",
     "output_type": "stream",
     "text": [
      "{'f1_score': 0.6136637789231275, 'auc': 0.6642975284333044, 'recall': 0.575601728039498, 'precision': 0.6571160169093471, 'log_loss': 0.6596999820216666, 'roc_curve': Columns:\n",
      "\tthreshold\tfloat\n",
      "\tfpr\tfloat\n",
      "\ttpr\tfloat\n",
      "\tp\tint\n",
      "\tn\tint\n",
      "\n",
      "Rows: 100001\n",
      "\n",
      "Data:\n",
      "+-----------+-----+-----+------+------+\n",
      "| threshold | fpr | tpr |  p   |  n   |\n",
      "+-----------+-----+-----+------+------+\n",
      "|    0.0    | 1.0 | 1.0 | 4861 | 4375 |\n",
      "|   1e-05   | 1.0 | 1.0 | 4861 | 4375 |\n",
      "|   2e-05   | 1.0 | 1.0 | 4861 | 4375 |\n",
      "|   3e-05   | 1.0 | 1.0 | 4861 | 4375 |\n",
      "|   4e-05   | 1.0 | 1.0 | 4861 | 4375 |\n",
      "|   5e-05   | 1.0 | 1.0 | 4861 | 4375 |\n",
      "|   6e-05   | 1.0 | 1.0 | 4861 | 4375 |\n",
      "|   7e-05   | 1.0 | 1.0 | 4861 | 4375 |\n",
      "|   8e-05   | 1.0 | 1.0 | 4861 | 4375 |\n",
      "|   9e-05   | 1.0 | 1.0 | 4861 | 4375 |\n",
      "+-----------+-----+-----+------+------+\n",
      "[100001 rows x 5 columns]\n",
      "Note: Only the head of the SFrame is printed.\n",
      "You can use print_rows(num_rows=m, num_columns=n) to print more rows and columns., 'confusion_matrix': Columns:\n",
      "\ttarget_label\tint\n",
      "\tpredicted_label\tint\n",
      "\tcount\tint\n",
      "\n",
      "Rows: 4\n",
      "\n",
      "Data:\n",
      "+--------------+-----------------+-------+\n",
      "| target_label | predicted_label | count |\n",
      "+--------------+-----------------+-------+\n",
      "|      1       |        0        |  2063 |\n",
      "|      0       |        0        |  2915 |\n",
      "|      1       |        1        |  2798 |\n",
      "|      0       |        1        |  1460 |\n",
      "+--------------+-----------------+-------+\n",
      "[4 rows x 3 columns]\n",
      ", 'accuracy': 0.6185578172368991}\n"
     ]
    }
   ],
   "source": [
    "## Then our evaluations on the same set are 62% accuracy, and ~67% AUC\n",
    "\n",
    "print final_log_model.evaluate(train_valid_shuffled)"
   ]
  },
  {
   "cell_type": "code",
   "execution_count": 20,
   "metadata": {
    "collapsed": false
   },
   "outputs": [],
   "source": [
    "## Now we can make final predictions for the data_test:\n",
    "final_test_predictions = final_log_model.predict(data_test,output_type='probability')"
   ]
  },
  {
   "cell_type": "code",
   "execution_count": 21,
   "metadata": {
    "collapsed": true
   },
   "outputs": [],
   "source": [
    "data_test['output_logistic'] = final_test_predictions"
   ]
  },
  {
   "cell_type": "code",
   "execution_count": 22,
   "metadata": {
    "collapsed": false
   },
   "outputs": [
    {
     "data": {
      "text/plain": [
       "dtype: float\n",
       "Rows: 4654\n",
       "[0.41736027437681666, 0.5765989054461393, 0.52880264944404, 0.4490549944848981, 0.5937798730168107, 0.46242734710107547, 0.5137456240127233, 0.41047283115955524, 0.4534178151985599, 0.37304260355957675, 0.5433202331111442, 0.49191212817658675, 0.4672544893978416, 0.4744247342900921, 0.43369173672486766, 0.371949519635425, 0.4628508160553968, 0.5728219983561674, 0.41954135806697473, 0.5450423071891822, 0.39240446710760274, 0.5276980285118229, 0.6020445586381112, 0.38782128966686824, 0.5229713243472947, 0.4506908129216484, 0.4950955805333594, 0.46200471448808766, 0.4259353502964359, 0.4714771575232524, 0.5154004113584221, 0.0, 0.5388368571823171, 0.4916718945505883, 0.6607923179254029, 0.42413520528943066, 0.5223465470604818, 0.4920070950487925, 0.42872937517399357, 0.5067203385678167, 0.5238916897311121, 0.6398920959775668, 0.7599068866424782, 0.7542588938525152, 0.44237736355235896, 0.4842523152189639, 0.7978383673267709, 0.49147585722384446, 0.5896357610629531, 0.7673376731784669, 0.7110526871726939, 0.39809192799416016, 0.4461762799516682, 0.42394006148262126, 0.584548623333493, 0.4245375717240691, 0.7873708967472605, 0.3983327265042182, 0.6136740812264203, 0.46516534738429516, 0.6751584447313316, 0.5790296717582776, 0.5207370683246263, 0.5355047094299425, 0.42016085888895865, 0.5548876698587081, 0.7023339157438502, 0.550407171906415, 0.6981302294317313, 0.4649743799811494, 0.4694113467493676, 0.6035227155301656, 0.4843239725773363, 0.4728853198371518, 0.413740420576193, 0.47969158318824323, 0.5766933024895047, 0.4093403384601915, 0.4784055801603636, 0.6381328429467067, 0.5907640976515065, 0.4502463591541931, 0.5811863876757497, 0.47491164349798326, 0.5029341028761853, 0.46480711399033425, 0.40883276736439356, 0.5592471812087029, 0.4201809855800069, 0.6887598885935986, 0.4901428207241102, 0.46725313928242035, 0.24643779039972613, 0.5377053369315312, 0.4645740269578472, 0.40016426777166425, 0.388487573734906, 0.5530739914327506, 0.38574601403701114, 0.39078882607303317, ... ]"
      ]
     },
     "execution_count": 22,
     "metadata": {},
     "output_type": "execute_result"
    }
   ],
   "source": [
    "data_test['output_logistic']"
   ]
  },
  {
   "cell_type": "code",
   "execution_count": null,
   "metadata": {
    "collapsed": false
   },
   "outputs": [],
   "source": []
  },
  {
   "cell_type": "markdown",
   "metadata": {
    "collapsed": true
   },
   "source": [
    "# Now let's implement Random forest classifier and compare the results"
   ]
  },
  {
   "cell_type": "code",
   "execution_count": 23,
   "metadata": {
    "collapsed": false
   },
   "outputs": [
    {
     "name": "stdout",
     "output_type": "stream",
     "text": [
      "PROGRESS: Creating a validation set from 5 percent of training data. This may take a while.\n",
      "          You can set ``validation_set=None`` to disable validation tracking.\n",
      "\n",
      "PROGRESS: Random forest classifier:\n",
      "PROGRESS: --------------------------------------------------------\n",
      "PROGRESS: Number of examples          : 8792\n",
      "PROGRESS: Number of classes           : 2\n",
      "PROGRESS: Number of feature columns   : 26\n",
      "PROGRESS: Number of unpacked features : 26\n",
      "PROGRESS: Starting Boosted Trees\n",
      "PROGRESS: --------------------------------------------------------\n",
      "PROGRESS:   Iter      Accuracy          Elapsed time\n",
      "PROGRESS:         (training) (validation)\n",
      "PROGRESS:      0  6.406e-001  5.991e-001        0.03s\n",
      "PROGRESS:      1  6.570e-001  6.149e-001        0.06s\n",
      "PROGRESS:      2  6.641e-001  6.216e-001        0.08s\n",
      "PROGRESS:      3  6.597e-001  6.216e-001        0.09s\n",
      "PROGRESS:      4  6.681e-001  6.261e-001        0.10s\n",
      "PROGRESS:      5  6.686e-001  6.216e-001        0.12s\n",
      "PROGRESS:      6  6.683e-001  6.261e-001        0.15s\n",
      "PROGRESS:      7  6.657e-001  6.239e-001        0.16s\n",
      "PROGRESS:      8  6.670e-001  6.329e-001        0.18s\n",
      "PROGRESS:      9  6.682e-001  6.329e-001        0.20s\n"
     ]
    }
   ],
   "source": [
    "init_features = data_train.column_names()[1:-2]\n",
    "init_forest_model = graphlab.random_forest_classifier.create(data_train,\n",
    "                                                         features=init_features,\n",
    "                                                         target='output')"
   ]
  },
  {
   "cell_type": "code",
   "execution_count": 24,
   "metadata": {
    "collapsed": false
   },
   "outputs": [
    {
     "data": {
      "text/plain": [
       "{'accuracy': 0.6665223040277176,\n",
       " 'auc': 0.7282450289475985,\n",
       " 'confusion_matrix': Columns:\n",
       " \ttarget_label\tint\n",
       " \tpredicted_label\tint\n",
       " \tcount\tint\n",
       " \n",
       " Rows: 4\n",
       " \n",
       " Data:\n",
       " +--------------+-----------------+-------+\n",
       " | target_label | predicted_label | count |\n",
       " +--------------+-----------------+-------+\n",
       " |      1       |        0        |  1547 |\n",
       " |      0       |        0        |  2842 |\n",
       " |      0       |        1        |  1533 |\n",
       " |      1       |        1        |  3314 |\n",
       " +--------------+-----------------+-------+\n",
       " [4 rows x 3 columns],\n",
       " 'f1_score': 0.6827358879274824,\n",
       " 'log_loss': 0.6181241750827191,\n",
       " 'precision': 0.68372188982876,\n",
       " 'recall': 0.6817527257765892,\n",
       " 'roc_curve': Columns:\n",
       " \tthreshold\tfloat\n",
       " \tfpr\tfloat\n",
       " \ttpr\tfloat\n",
       " \tp\tint\n",
       " \tn\tint\n",
       " \n",
       " Rows: 100001\n",
       " \n",
       " Data:\n",
       " +-----------+-----+-----+------+------+\n",
       " | threshold | fpr | tpr |  p   |  n   |\n",
       " +-----------+-----+-----+------+------+\n",
       " |    0.0    | 1.0 | 1.0 | 4861 | 4375 |\n",
       " |   1e-05   | 1.0 | 1.0 | 4861 | 4375 |\n",
       " |   2e-05   | 1.0 | 1.0 | 4861 | 4375 |\n",
       " |   3e-05   | 1.0 | 1.0 | 4861 | 4375 |\n",
       " |   4e-05   | 1.0 | 1.0 | 4861 | 4375 |\n",
       " |   5e-05   | 1.0 | 1.0 | 4861 | 4375 |\n",
       " |   6e-05   | 1.0 | 1.0 | 4861 | 4375 |\n",
       " |   7e-05   | 1.0 | 1.0 | 4861 | 4375 |\n",
       " |   8e-05   | 1.0 | 1.0 | 4861 | 4375 |\n",
       " |   9e-05   | 1.0 | 1.0 | 4861 | 4375 |\n",
       " +-----------+-----+-----+------+------+\n",
       " [100001 rows x 5 columns]\n",
       " Note: Only the head of the SFrame is printed.\n",
       " You can use print_rows(num_rows=m, num_columns=n) to print more rows and columns.}"
      ]
     },
     "execution_count": 24,
     "metadata": {},
     "output_type": "execute_result"
    }
   ],
   "source": [
    "## let's look at the evaluation statistics :\n",
    "init_forest_model.evaluate(data_train)\n",
    "## We can see that accuracy and AUC is about 5% higher"
   ]
  },
  {
   "cell_type": "code",
   "execution_count": 25,
   "metadata": {
    "collapsed": true
   },
   "outputs": [],
   "source": [
    "## Now let's create test data as 10% of the training data to check random forests performance:\n",
    "(train_valid, test) = data_train.random_split(.9, seed=1)\n",
    "train_valid_shuffled = graphlab.toolkits.cross_validation.shuffle(train_valid, random_seed=1)"
   ]
  },
  {
   "cell_type": "code",
   "execution_count": 26,
   "metadata": {
    "collapsed": false
   },
   "outputs": [],
   "source": [
    "## not let's create new cross-validation function to measure how random_forest perform :\n",
    "def k_fold_cross_validation_forest(k, data, output_name, features_list):\n",
    "    n = len(data)\n",
    "    AUC_list = list()\n",
    "    for i in xrange(k):\n",
    "        start = (n*i)/k\n",
    "        end = (n*(i+1))/k-1\n",
    "        valid_set = data[start:end+1]\n",
    "        train_set = data[:start].append(data[end+1:])\n",
    "        model = graphlab.random_forest_classifier.create(train_set, target = output_name, features = features_list, verbose=False)\n",
    "        AUC_list.append(model.evaluate(valid_set)['auc'])\n",
    "        \n",
    "    return (np.mean(AUC_list))"
   ]
  },
  {
   "cell_type": "code",
   "execution_count": 27,
   "metadata": {
    "collapsed": false
   },
   "outputs": [
    {
     "data": {
      "text/plain": [
       "0.64948814239262953"
      ]
     },
     "execution_count": 27,
     "metadata": {},
     "output_type": "execute_result"
    }
   ],
   "source": [
    "k_fold_cross_validation_forest(10,train_valid_shuffled,'output',init_features)"
   ]
  },
  {
   "cell_type": "code",
   "execution_count": 28,
   "metadata": {
    "collapsed": false
   },
   "outputs": [
    {
     "name": "stdout",
     "output_type": "stream",
     "text": [
      "PROGRESS: Creating a validation set from 5 percent of training data. This may take a while.\n",
      "          You can set ``validation_set=None`` to disable validation tracking.\n",
      "\n",
      "PROGRESS: Random forest classifier:\n",
      "PROGRESS: --------------------------------------------------------\n",
      "PROGRESS: Number of examples          : 7896\n",
      "PROGRESS: Number of classes           : 2\n",
      "PROGRESS: Number of feature columns   : 26\n",
      "PROGRESS: Number of unpacked features : 26\n",
      "PROGRESS: Starting Boosted Trees\n",
      "PROGRESS: --------------------------------------------------------\n",
      "PROGRESS:   Iter      Accuracy          Elapsed time\n",
      "PROGRESS:         (training) (validation)\n",
      "PROGRESS:      0  6.092e-001  5.487e-001        0.02s\n",
      "PROGRESS:      1  6.567e-001  5.914e-001        0.04s\n",
      "PROGRESS:      2  6.683e-001  6.010e-001        0.06s\n",
      "PROGRESS:      3  6.692e-001  5.986e-001        0.08s\n",
      "PROGRESS:      4  6.676e-001  5.986e-001        0.10s\n",
      "PROGRESS:      5  6.722e-001  5.962e-001        0.12s\n",
      "PROGRESS:      6  6.782e-001  6.010e-001        0.12s\n",
      "PROGRESS:      7  6.791e-001  6.033e-001        0.14s\n",
      "PROGRESS:      8  6.802e-001  5.938e-001        0.17s\n",
      "PROGRESS:      9  6.798e-001  5.962e-001        0.18s\n"
     ]
    }
   ],
   "source": [
    "final_forest_model = graphlab.random_forest_classifier.create(train_valid_shuffled,\n",
    "                                                         features=init_features,\n",
    "                                                         target='output')"
   ]
  },
  {
   "cell_type": "code",
   "execution_count": 29,
   "metadata": {
    "collapsed": false
   },
   "outputs": [
    {
     "data": {
      "text/plain": [
       "{'accuracy': 0.6017410228509249,\n",
       " 'auc': 0.6603021521212417,\n",
       " 'confusion_matrix': Columns:\n",
       " \ttarget_label\tint\n",
       " \tpredicted_label\tint\n",
       " \tcount\tint\n",
       " \n",
       " Rows: 4\n",
       " \n",
       " Data:\n",
       " +--------------+-----------------+-------+\n",
       " | target_label | predicted_label | count |\n",
       " +--------------+-----------------+-------+\n",
       " |      1       |        0        |  170  |\n",
       " |      0       |        0        |  238  |\n",
       " |      1       |        1        |  315  |\n",
       " |      0       |        1        |  196  |\n",
       " +--------------+-----------------+-------+\n",
       " [4 rows x 3 columns],\n",
       " 'f1_score': 0.6325301204819277,\n",
       " 'log_loss': 0.651582072111,\n",
       " 'precision': 0.6164383561643836,\n",
       " 'recall': 0.6494845360824743,\n",
       " 'roc_curve': Columns:\n",
       " \tthreshold\tfloat\n",
       " \tfpr\tfloat\n",
       " \ttpr\tfloat\n",
       " \tp\tint\n",
       " \tn\tint\n",
       " \n",
       " Rows: 100001\n",
       " \n",
       " Data:\n",
       " +-----------+-----+-----+-----+-----+\n",
       " | threshold | fpr | tpr |  p  |  n  |\n",
       " +-----------+-----+-----+-----+-----+\n",
       " |    0.0    | 1.0 | 1.0 | 485 | 434 |\n",
       " |   1e-05   | 1.0 | 1.0 | 485 | 434 |\n",
       " |   2e-05   | 1.0 | 1.0 | 485 | 434 |\n",
       " |   3e-05   | 1.0 | 1.0 | 485 | 434 |\n",
       " |   4e-05   | 1.0 | 1.0 | 485 | 434 |\n",
       " |   5e-05   | 1.0 | 1.0 | 485 | 434 |\n",
       " |   6e-05   | 1.0 | 1.0 | 485 | 434 |\n",
       " |   7e-05   | 1.0 | 1.0 | 485 | 434 |\n",
       " |   8e-05   | 1.0 | 1.0 | 485 | 434 |\n",
       " |   9e-05   | 1.0 | 1.0 | 485 | 434 |\n",
       " +-----------+-----+-----+-----+-----+\n",
       " [100001 rows x 5 columns]\n",
       " Note: Only the head of the SFrame is printed.\n",
       " You can use print_rows(num_rows=m, num_columns=n) to print more rows and columns.}"
      ]
     },
     "execution_count": 29,
     "metadata": {},
     "output_type": "execute_result"
    }
   ],
   "source": [
    "final_forest_model.evaluate(test)"
   ]
  },
  {
   "cell_type": "markdown",
   "metadata": {},
   "source": [
    "## as we see random forest does not perform much better than logistic regregression: accuracy 61%, AUC 65%."
   ]
  },
  {
   "cell_type": "code",
   "execution_count": 30,
   "metadata": {
    "collapsed": true
   },
   "outputs": [],
   "source": [
    "# let's build final predictions:\n",
    "final_test_predictions_forest = final_forest_model.predict(data_test,output_type='probability')"
   ]
  },
  {
   "cell_type": "code",
   "execution_count": 31,
   "metadata": {
    "collapsed": false
   },
   "outputs": [
    {
     "data": {
      "text/plain": [
       "317.4382011427029"
      ]
     },
     "execution_count": 31,
     "metadata": {},
     "output_type": "execute_result"
    }
   ],
   "source": [
    "sum(abs(final_test_predictions_forest - final_test_predictions))"
   ]
  },
  {
   "cell_type": "code",
   "execution_count": 32,
   "metadata": {
    "collapsed": true
   },
   "outputs": [],
   "source": [
    "## it is not really big number when we have about 9 thousands of observations"
   ]
  },
  {
   "cell_type": "code",
   "execution_count": 33,
   "metadata": {
    "collapsed": true
   },
   "outputs": [],
   "source": [
    "## let's write final LOGISTIC predictions to the file:\n",
    "data_test.export_csv('RaidArfua.csv',delimiter=';')"
   ]
  },
  {
   "cell_type": "markdown",
   "metadata": {
    "collapsed": true
   },
   "source": [
    "# Conclusion:\n",
    "## we see that accuracy of basic logistic and random forest classifiers are not high\n",
    "## it makes sense to make better feature selection and preparation\n",
    "## it makes sense to try SVM classifier too"
   ]
  },
  {
   "cell_type": "code",
   "execution_count": null,
   "metadata": {
    "collapsed": true
   },
   "outputs": [],
   "source": []
  }
 ],
 "metadata": {
  "kernelspec": {
   "display_name": "Python 2",
   "language": "python",
   "name": "python2"
  },
  "language_info": {
   "codemirror_mode": {
    "name": "ipython",
    "version": 2
   },
   "file_extension": ".py",
   "mimetype": "text/x-python",
   "name": "python",
   "nbconvert_exporter": "python",
   "pygments_lexer": "ipython2",
   "version": "2.7.10"
  }
 },
 "nbformat": 4,
 "nbformat_minor": 0
}
